{
 "cells": [
  {
   "cell_type": "markdown",
   "metadata": {},
   "source": [
    "一、K近邻算法（K-nearest neighbor）  \n",
    "  \n",
    "  算法：  \n",
    "  输入：  \n",
    "    $T = \\{ (x_{1},y_{1}),(x_{2},y_{2}),..,(x_{n},y_{n})\\}$  \n",
    "    其中，$x_{i} \\in X \\subseteq R^{n}$为特征向量，$y_{i} \\in Y =\\{c_{1},c_{2},..,c_{k}\\}$为类别，$i=1,2,3,..,N$；实例x  \n",
    "  输出：x所属类别y  \n",
    "  (1). 根据距离度量，在训练集T中找出与$x$最近邻的$k$个点，涵盖这$k$个点的邻域为$N_{k}(x)$  \n",
    "  (2). 在$N_{k}(x)$中根据分类决策规则（如多数表决）决定$x$的类别$y$:  \n",
    "      $y = argmax_{c_{j}}  \\sum_{x_{i} \\in N_{k}(x)} I(y_{i} = c_{j}),i=1,2,..,M;j=1,2,..,K$  \n",
    "  其中$I$为指示函数，即当$y_{i} = c_{j}$时$I$为1，否则$I$为0。"
   ]
  },
  {
   "cell_type": "code",
   "execution_count": 60,
   "metadata": {
    "collapsed": false
   },
   "outputs": [],
   "source": [
    "import numpy as np\n",
    "\n",
    "class KNN:\n",
    "    def __init__(self,X,Y,k):\n",
    "        self.K = k\n",
    "        self.X = X\n",
    "        self.Y = Y\n",
    "    def predict(self,x):\n",
    "        num_samples,feat_dim = self.X.shape\n",
    "        dist = np.zeros((num_samples))\n",
    "        for n in range(num_samples):\n",
    "            dist[n] = self.__calc_dist(X[n,:],x)\n",
    "        nsmallest_idx = self.__nsmallest(dist,self.K)\n",
    "        rsp = [self.Y[k] for k in nsmallest_idx]\n",
    "        yset = list(set(rsp))\n",
    "        return yset[np.array([rsp.count(i) for i in yset]).argmax()]\n",
    "    def __calc_dist(self,x1,x2):\n",
    "        return np.sum((x1-x2)**2)\n",
    "    \n",
    "    def __nsmallest(self,x,n):\n",
    "        return x.argsort()[0:n]\n",
    "            "
   ]
  },
  {
   "cell_type": "markdown",
   "metadata": {},
   "source": [
    "例2.贷款申请样本数据表  \n",
    "\n",
    "   |  ID  |   年龄  |   有工作   |   有自己的房子  |   信贷情况   |   类别   |\n",
    "   | ---- | -------- |  ----------  |  --------------  |  ------------  |  --------  |\n",
    "   |  1  |  青年  |   否   |   否   |   一般   |   否   |\n",
    "   |  2  |  青年  |   否   |   否   |   好   |   否   |\n",
    "   |  3  |  青年  |   是   |   否   |   好   |   是   |\n",
    "   |  4  |  青年  |   是   |   是   |   一般   |   是   |\n",
    "   |  5  |  青年  |   否   |   否   |   一般   |   否   |\n",
    "   |  6  |  中年  |   否   |   否   |   一般   |   否   |\n",
    "   |  7  |  中年  |   否   |   否   |   好   |   否   |\n",
    "   |  8  |  中年  |   是   |   是   |   好   |   否   |\n",
    "   |  9  |  中年  |   否   |   是   |   非常好  |   是   |\n",
    "   |  10  |  中年  |   否   |   是   |   非常好   |   是   |\n",
    "   |  11  |  老年  |   否   |   是   |   非常好   |   是   |\n",
    "   |  12  |  老年  |   否   |   是   |   好   |   是   |\n",
    "   |  13  |  老年  |   是   |   否   |   好   |   是   |\n",
    "   |  14  |  老年  |   是   |   否   |   非常好   |   是   |\n",
    "   |  15  |  老年  |   否   |   否   |   一般   |   否   |\n",
    "   \n",
    "  试预测：$x = (老年，是，否，一般，是)$ 是否发放贷款"
   ]
  },
  {
   "cell_type": "code",
   "execution_count": 61,
   "metadata": {
    "collapsed": false
   },
   "outputs": [
    {
     "name": "stdout",
     "output_type": "stream",
     "text": [
      "[ 4.  6.  4.  3.  4.  4.  6.  6.  6.  6.  4.  4.  2.  2.  2.]\n",
      "1\n"
     ]
    }
   ],
   "source": [
    "X = np.array([[1,0,0,0,0,1,0,0,0],[1,0,0,0,0,0,1,0,0],[1,0,0,1,0,0,1,0,1],\n",
    "             [1,0,0,1,1,1,0,0,1],[1,0,0,0,0,1,0,0,0],[0,1,0,0,0,1,0,0,0],\n",
    "             [0,1,0,0,0,0,1,0,0],[0,1,0,1,1,0,1,0,0],[0,1,0,0,1,0,0,1,1],\n",
    "             [0,1,0,0,1,0,0,1,1],[0,0,1,0,1,0,0,1,1],[0,0,1,0,1,0,1,0,1],\n",
    "             [0,0,1,1,0,0,1,0,1],[0,0,1,1,0,0,0,1,1],[0,0,1,0,0,1,0,0,0]])\n",
    "Y = np.array([0,0,1,1,0,0,0,1,1,1,1,1,1,1,0])\n",
    "x = np.array([[0,0,1,1,0,1,0,0,1]])\n",
    "\n",
    "clf = KNN(X,Y,3)\n",
    "print clf.predict(x)"
   ]
  }
 ],
 "metadata": {
  "kernelspec": {
   "display_name": "Python 2",
   "language": "python",
   "name": "python2"
  },
  "language_info": {
   "codemirror_mode": {
    "name": "ipython",
    "version": 2
   },
   "file_extension": ".py",
   "mimetype": "text/x-python",
   "name": "python",
   "nbconvert_exporter": "python",
   "pygments_lexer": "ipython2",
   "version": "2.7.13"
  }
 },
 "nbformat": 4,
 "nbformat_minor": 0
}
