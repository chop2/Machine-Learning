{
 "cells": [
  {
   "cell_type": "markdown",
   "metadata": {},
   "source": [
    "朴素贝叶斯分类器  \n",
    "1.基本公式：  \n",
    "    $P(A|B)P(B) = P(B|A)P(A) $    (1)  \n",
    "  设输入样本数据为$D=\\{(x_{0},y_{0}),(x_{1},y_{1}),..,(x_{n},y_{n}) \\}$,其中$x\\in X,y \\in Y，x_{i}^{(j)}$表示第i个样本中的第j个特征。  \n",
    "  $x^{j}$可能的取值$x^{(j)} = \\{ a_{j1},a_{j2},..,a_{jS_{j}}\\},j=1,2,..,S_{j}$,y可能的取值为$y_{i} \\in \\{c_{0},c_{1},..,c_{k}\\}$。   \n",
    "  公式（1）在样本D空间中的描述为：  \n",
    "        $P(y_{i}|x) = \\frac{P(x|y_{i})P(y_{i})}{P(x)}$ (2)  \n",
    "  即根据输入的样本x输出对应的y中各个分类的概率值。取概率值最高的分类作为最终的预测结果。由于公式2中的$P(x)$对所有的$y$分类的贡献都一样，那么公式2可以化简为：  \n",
    "        $P(y_{i}|x) = P(x|y_{i})P(y_{i})$  \n",
    "  最终的预测结果为：  \n",
    "        $arg max(P(y_{i} = c_{k}|x)),c_{k} \\in {c_{0},c_{1},..,c_{K}}$\n",
    "    \n",
    "    \n",
    "  算法步骤：  \n",
    "  1).计算先验概率和条件概率：  \n",
    "  $P(y_{i}) = \\frac{\\sum_{i=1}^{N}I(y_{i} = c_{k})}{N},k = 1,2,..,K$  \n",
    "  $P(x^{(j)}=a_{jl}|y_{i} = c_{k}) = \\frac{\\sum_{i=1}^{N}I(x^{(j)} = a_{jl},y_{i}=c_{k})}{\\sum_{i=1}^{N}I(y_{i}=c_{k})}$  \n",
    "  2).对于给定的实例$x=(x_{(1)},x_{(2)},..,x_{(n)})^T$ 计算：  \n",
    "  $P(Y=c_{k}) \\prod_{j=1}^{n}P(X^{(j)} = x^{(j)}|Y=c_{k}),k=1,2,..,K$  \n",
    "  3).确定实例$x$的分类：  \n",
    "  $y = arg max \\{P(Y=c_{k}) \\prod_{j=1}^{n}P(X^{(j)} = x^{(j)}|P(Y = c_{k}))\\}$  "
   ]
  },
  {
   "cell_type": "code",
   "execution_count": 29,
   "metadata": {
    "collapsed": true
   },
   "outputs": [],
   "source": [
    "import numpy as np\n",
    "\n",
    "class NormBayes:\n",
    "    def __init__(self):\n",
    "        self.__label = []\n",
    "        self.__Prob_yi=[]\n",
    "        self.__Prob_xi=[]\n",
    "        self.__lamda = 1\n",
    "    def fit(self,X,Y):\n",
    "        '''\n",
    "        @X - input numpy array as features\n",
    "        @Y - input label\n",
    "        '''\n",
    "        self.__calc_prob_yi(Y)\n",
    "        self.__calc_prob_xi(X,Y)        \n",
    "\n",
    "    def __calc_prob_yi(self,Y):\n",
    "        #clac  priori probability\n",
    "        self.__label = list(set(Y))\n",
    "        N = Y.shape[0];k = 0\n",
    "        self.__Prob_yi = np.zeros((len(self.__label)))\n",
    "        for l in self.__label:\n",
    "            count = 0\n",
    "            for n in range(N):\n",
    "                if(Y[n] == l):\n",
    "                    count += 1\n",
    "            self.__Prob_yi[k] = float(count) / N\n",
    "            #print \"(yi = \",l,\")= \",self.__Prob_yi[k]\n",
    "            k += 1\n",
    "    def __calc_prob_xi(self,X,Y):\n",
    "        #conditional probability\n",
    "        y = list(set(Y))\n",
    "        num_cls = len(y);\n",
    "        feat_dim = X.shape[1]\n",
    "        self.__Prob_xi = np.zeros((num_cls,feat_dim))\n",
    "        for c in range(num_cls): \n",
    "            count_yi = self.__count_label(Y,y[c])\n",
    "            #print \"count_yi=\",count_yi\n",
    "            yi_idx = self.__get_data_idx(Y,y[c])\n",
    "            subX = self.__get_sub_data(X,yi_idx)\n",
    "            for f in range(feat_dim):\n",
    "                count_xi = np.count_nonzero(subX[:,f])                \n",
    "                #print \"count_x\",f,\"= \",count_xi\n",
    "                self.__Prob_xi[c][f] = float(count_xi) / count_yi\n",
    "                #print \"(ck=\",c,\"xi=\",f,\")= \",self.__Prob_xi[c][f]\n",
    "\n",
    "    def __count_label(self,Y,y):     \n",
    "        return list(Y).count(y)\n",
    "\n",
    "    def __get_data_idx(self,Y,y):\n",
    "        return [i for i,a in enumerate(Y) if a == y]\n",
    "\n",
    "    def __get_sub_data(self,X,idx=[]):\n",
    "        data = np.zeros((len(idx),X.shape[1]))\n",
    "        for i in range(len(idx)):\n",
    "            data[i] = X[idx[i]]\n",
    "        return data\n",
    "    def predict(self,X):\n",
    "        '''\n",
    "        @X - single-predict if you input one sample,\n",
    "            multi-predict if you input serval samples\n",
    "        @return index of label\n",
    "        '''\n",
    "        rows,cols = X.shape\n",
    "        num_cls = len(self.__label)\n",
    "        rsp = []\n",
    "        for r in range(rows):            \n",
    "            prob_y = np.zeros((num_cls))\n",
    "            for n in range(num_cls):\n",
    "                prod = 1.\n",
    "                for c in range(cols):\n",
    "                    if(X[r][c] != 0):\n",
    "                        prod *= self.__Prob_xi[n][c]\n",
    "                prob_y[n] = prod * self.__Prob_yi[n]\n",
    "            maxIdx = prob_y.argmax()\n",
    "            rsp.append((self.__label[maxIdx],prob_y[maxIdx]))\n",
    "        return rsp"
   ]
  },
  {
   "cell_type": "markdown",
   "metadata": {},
   "source": [
    "\n",
    "例1.练一个贝叶斯分类器并确定$x=(2,S)^T$的类标记y,表中$X^{(1)},X^{(2)}$为特征，取值的集合分别为：$A_{1} \\in \\{1,2,3\\},A_{2} \\in \\{S,M,L\\}$  \n",
    "$Y$为类标记，$Y \\in \\{-1,1\\}$  \n",
    "\n",
    "|       | 1 | 2 | 3 | 4 | 5 | 6 | 7 | 8 | 9 | 10 | 11 | 12 | 13 | 14 | 15 |\n",
    "|  ----   |---|---|---|---|---|---|---|---|---| ---|--- |--- |--- |--- |--- |\n",
    "|$X^{(1)}$ | 1 | 1 | 1 | 1 | 1 | 2 | 2 | 2 | 2 | 2  | 3  | 3  | 3  | 3  | 3  |\n",
    "|$X^{(2)}$ | S | M | M | S | S | S | M | M | L | L  | L  | M  | M  | L  | L  |\n",
    "|$Y$     | -1| -1| 1 | 1 | -1| -1| -1| 1 | 1 | 1  | 1  | 1  | 1  | 1  | -1 |"
   ]
  },
  {
   "cell_type": "code",
   "execution_count": 30,
   "metadata": {
    "collapsed": false
   },
   "outputs": [
    {
     "name": "stdout",
     "output_type": "stream",
     "text": [
      "[(-1, 0.066666666666666666), (-1, 0.066666666666666666), (1, 0.11851851851851851)]\n"
     ]
    }
   ],
   "source": [
    "X = np.array([[1,0,0,1,0,0],[1,0,0,0,1,0],[1,0,0,0,1,0],\n",
    "             [1,0,0,1,0,0],[1,0,0,1,0,0],[0,1,0,1,0,0],\n",
    "              [0,1,0,0,1,0],[0,1,0,0,1,0],[0,1,0,0,0,1],\n",
    "              [0,1,0,0,0,1],[0,0,1,0,0,1],[0,0,1,0,1,0],\n",
    "              [0,0,1,0,1,0],[0,0,1,0,0,1],[0,0,1,0,0,1]])\n",
    "Y = np.array([-1,-1,1,1,-1,-1,-1,1,1,1,1,1,1,1,-1])\n",
    "#Y = np.array([0,0,1,1,0,0,0,1,1,1,1,1,1,1,0])\n",
    "\n",
    "#single-predict\n",
    "#x = np.array([[0,1,0,1,0,0]])\n",
    "#multi-predict\n",
    "x = np.array([[0,1,0,1,0,0],[1,0,0,0,1,0],[0,0,1,0,1,0]])\n",
    "\n",
    "clf = NormBayes()\n",
    "clf.fit(X,Y)\n",
    "print clf.predict(x)"
   ]
  },
  {
   "cell_type": "markdown",
   "metadata": {
    "slideshow": {
     "slide_type": "subslide"
    }
   },
   "source": [
    "例2.贷款申请样本数据表  \n",
    "\n",
    "   |  ID  |   年龄  |   有工作   |   有自己的房子  |   信贷情况   |   类别   |\n",
    "   | ---- | -------- |  ----------  |  --------------  |  ------------  |  --------  |\n",
    "   |  1  |  青年  |   否   |   否   |   一般   |   否   |\n",
    "   |  2  |  青年  |   否   |   否   |   好   |   否   |\n",
    "   |  3  |  青年  |   是   |   否   |   好   |   是   |\n",
    "   |  4  |  青年  |   是   |   是   |   一般   |   是   |\n",
    "   |  5  |  青年  |   否   |   否   |   一般   |   否   |\n",
    "   |  6  |  中年  |   否   |   否   |   一般   |   否   |\n",
    "   |  7  |  中年  |   否   |   否   |   好   |   否   |\n",
    "   |  8  |  中年  |   是   |   是   |   好   |   否   |\n",
    "   |  9  |  中年  |   否   |   是   |   非常好  |   是   |\n",
    "   |  10  |  中年  |   否   |   是   |   非常好   |   是   |\n",
    "   |  11  |  老年  |   否   |   是   |   非常好   |   是   |\n",
    "   |  12  |  老年  |   否   |   是   |   好   |   是   |\n",
    "   |  13  |  老年  |   是   |   否   |   好   |   是   |\n",
    "   |  14  |  老年  |   是   |   否   |   非常好   |   是   |\n",
    "   |  15  |  老年  |   否   |   否   |   一般   |   否   |\n",
    "   \n",
    "  试预测：$x = (老年，是，否，一般，是)$ 是否发放贷款"
   ]
  },
  {
   "cell_type": "code",
   "execution_count": 31,
   "metadata": {
    "collapsed": false
   },
   "outputs": [
    {
     "name": "stdout",
     "output_type": "stream",
     "text": [
      "[(1, 0.014631915866483762)]\n"
     ]
    }
   ],
   "source": [
    "X = np.array([[1,0,0,0,0,1,0,0,0],[1,0,0,0,0,0,1,0,0],[1,0,0,1,0,0,1,0,1],\n",
    "             [1,0,0,1,1,1,0,0,1],[1,0,0,0,0,1,0,0,0],[0,1,0,0,0,1,0,0,0],\n",
    "             [0,1,0,0,0,0,1,0,0],[0,1,0,1,1,0,1,0,0],[0,1,0,0,1,0,0,1,1],\n",
    "             [0,1,0,0,1,0,0,1,1],[0,0,1,0,1,0,0,1,1],[0,0,1,0,1,0,1,0,1],\n",
    "             [0,0,1,1,0,0,1,0,1],[0,0,1,1,0,0,0,1,1],[0,0,1,0,0,1,0,0,0]])\n",
    "Y = np.array([0,0,1,1,0,0,0,1,1,1,1,1,1,1,0])\n",
    "x = np.array([[0,0,1,1,0,1,0,0,1]])\n",
    "\n",
    "clf = NormBayes()\n",
    "clf.fit(X,Y)\n",
    "print clf.predict(x)"
   ]
  }
 ],
 "metadata": {
  "kernelspec": {
   "display_name": "Python 2",
   "language": "python",
   "name": "python2"
  },
  "language_info": {
   "codemirror_mode": {
    "name": "ipython",
    "version": 2
   },
   "file_extension": ".py",
   "mimetype": "text/x-python",
   "name": "python",
   "nbconvert_exporter": "python",
   "pygments_lexer": "ipython2",
   "version": "2.7.13"
  }
 },
 "nbformat": 4,
 "nbformat_minor": 0
}
