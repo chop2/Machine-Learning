{
 "cells": [
  {
   "cell_type": "markdown",
   "metadata": {},
   "source": [
    "一、感知机算法-原始形式  \n",
    "   算法描述：  \n",
    "   输入:数据集$T = \\{ (x_{1},y_{1}),(x_{2},y_{2}),..,(x_{n},y_{n})\\}$，其中$x_{i} \\in X = R^{n},y_{i} \\in Y=\\{-1,1\\},i = 1,2,..,N$。学习率$\\eta(0<\\eta<1)$  \n",
    "   输出：$w,b$ ；感知机模型：$f(x) = sign(w \\cdot x + b)$  \n",
    "   (1).选取初始值$w_{0},b_{0}$  \n",
    "   (2).在训练数据中选取$(x_{i},y_{i})$  \n",
    "   (3).如果$y_{i}(w\\cdot x_{i}+b) \\leqslant 0$  \n",
    "       $w \\leftarrow  w + \\eta y_{i}x_{i}$  \n",
    "       $b \\leftarrow b + \\eta y_{i}$  \n",
    "   (4).转到(2),直到训练集中没有误分类点\n",
    "       "
   ]
  },
  {
   "cell_type": "code",
   "execution_count": 45,
   "metadata": {
    "collapsed": true
   },
   "outputs": [],
   "source": [
    "%matplotlib inline\n",
    "import matplotlib.pyplot as plt\n",
    "from matplotlib.lines import Line2D"
   ]
  },
  {
   "cell_type": "code",
   "execution_count": 46,
   "metadata": {
    "collapsed": false
   },
   "outputs": [],
   "source": [
    "import numpy as np\n",
    "\n",
    "class Perceptron:\n",
    "    def __init__(self):\n",
    "        self.W = []\n",
    "        self.b = 0\n",
    "        self.eta = 0.1\n",
    "    def __decission_func(self,x,y):\n",
    "        return y * self.__clac_Wx_add_b(x)\n",
    "    def __clac_Wx_add_b(self,x):\n",
    "        sum = 0\n",
    "        for i in range(len(x)):\n",
    "            sum += self.W[i]*x[i]\n",
    "        return sum + self.b\n",
    "    def fit(self,X,Y):\n",
    "        num_samples,feat_dim = X.shape\n",
    "        self.W = np.zeros((feat_dim))\n",
    "        self.b = 0\n",
    "        OK = False\n",
    "        while OK == False:\n",
    "            num_Ok = 0\n",
    "            for n in range(num_samples):\n",
    "                xi = X[n,:]\n",
    "                yi = Y[n]\n",
    "                if self.__decission_func(xi,yi) <= 0:\n",
    "                    self.W = self.W + self.eta * yi * xi\n",
    "                    self.b = self.b + self.eta * yi\n",
    "                else:\n",
    "                    num_Ok += 1\n",
    "                if num_Ok == num_samples:\n",
    "                    OK = True\n",
    "    def predict(self,x):\n",
    "        return 1 if self.__clac_Wx_add_b(x) > 0 else -1"
   ]
  },
  {
   "cell_type": "code",
   "execution_count": 98,
   "metadata": {
    "collapsed": false
   },
   "outputs": [
    {
     "name": "stdout",
     "output_type": "stream",
     "text": [
      "W= [ 0.1  0.1]  b= -0.3\n"
     ]
    },
    {
     "data": {
      "text/plain": [
       "<matplotlib.text.Text at 0xe651630>"
      ]
     },
     "execution_count": 98,
     "metadata": {},
     "output_type": "execute_result"
    },
    {
     "data": {
      "image/png": "[encoded data removed]",
      "text/plain": [
       "<matplotlib.figure.Figure at 0xe16f3c8>"
      ]
     },
     "metadata": {},
     "output_type": "display_data"
    }
   ],
   "source": [
    "def clac_y(x,W,b):\n",
    "    return -b / W[0] - W[1] / W[0] * x\n",
    "\n",
    "X = np.array([[3,3],[4,3],[1,1]])\n",
    "Y = np.array([1,1,-1])\n",
    "clf = Perceptron()\n",
    "clf.fit(X,Y)\n",
    "\n",
    "color = [str(item/255.) for item in Y]\n",
    "plt.scatter(X[:,0],X[:,1],c = color,s=300)\n",
    "plt.text(3,2.5,s='+1')\n",
    "plt.text(4,2.5,s='+1')\n",
    "plt.text(1,0.5,s='-1')\n",
    "\n",
    "print 'W=',clf.W,' b=',clf.b\n",
    "x = [1,3]\n",
    "y = []\n",
    "for i in range(2):\n",
    "    y.append(clac_y(x[i],clf.W,clf.b))\n",
    "plt.plot(x,y)\n",
    "\n",
    "#pridect data\n",
    "xx=[2,5]\n",
    "rsp = clf.predict(xx)\n",
    "colr = [str(item/255.) for item in [rsp]]\n",
    "plt.scatter(xx[0],xx[1],s=100)\n",
    "sym = '+1' if rsp == 1 else '-1'\n",
    "plt.text(xx[0],xx[1] - 0.5,s=sym)"
   ]
  }
 ],
 "metadata": {
  "kernelspec": {
   "display_name": "Python 2",
   "language": "python",
   "name": "python2"
  },
  "language_info": {
   "codemirror_mode": {
    "name": "ipython",
    "version": 2
   },
   "file_extension": ".py",
   "mimetype": "text/x-python",
   "name": "python",
   "nbconvert_exporter": "python",
   "pygments_lexer": "ipython2",
   "version": "2.7.13"
  }
 },
 "nbformat": 4,
 "nbformat_minor": 0
}
