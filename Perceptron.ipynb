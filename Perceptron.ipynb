{
 "cells": [
  {
   "cell_type": "markdown",
   "metadata": {},
   "source": [
    "一、感知机算法-原始形式  \n",
    "   算法描述：  \n",
    "   输入:数据集$T = \\{ (x_{1},y_{1}),(x_{2},y_{2}),..,(x_{n},y_{n})\\}$，其中$x_{i} \\in X = R^{n},y_{i} \\in Y=\\{-1,1\\},i = 1,2,..,N$。学习率$\\eta(0<\\eta<1)$  \n",
    "   输出：$w,b$ ；感知机模型：$f(x) = sign(w \\cdot x + b)$  \n",
    "   (1).选取初始值$w_{0},b_{0}$  \n",
    "   (2).在训练数据中选取$(x_{i},y_{i})$  \n",
    "   (3).如果$y_{i}(w\\cdot x_{i}+b) \\leqslant 0$  \n",
    "       $w \\leftarrow  w + \\eta y_{i}x_{i}$  \n",
    "       $b \\leftarrow b + \\eta y_{i}$  \n",
    "   (4).转到(2),直到训练集中没有误分类点\n",
    "       "
   ]
  },
  {
   "cell_type": "code",
   "execution_count": null,
   "metadata": {
    "collapsed": true
   },
   "outputs": [],
   "source": [
    "import numpy\n",
    "\n",
    "class Perceptron:\n",
    "    def __init__(self):\n",
    "        self.w = []\n",
    "        self.b = 0\n",
    "    def fit(self,X,Y):\n",
    "        num_samples,feat_dim = X.shape\n",
    "        "
   ]
  }
 ],
 "metadata": {
  "kernelspec": {
   "display_name": "Python 2",
   "language": "python",
   "name": "python2"
  },
  "language_info": {
   "codemirror_mode": {
    "name": "ipython",
    "version": 2
   },
   "file_extension": ".py",
   "mimetype": "text/x-python",
   "name": "python",
   "nbconvert_exporter": "python",
   "pygments_lexer": "ipython2",
   "version": "2.7.13"
  }
 },
 "nbformat": 4,
 "nbformat_minor": 0
}
